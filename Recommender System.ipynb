{
 "cells": [
  {
   "cell_type": "code",
   "execution_count": 1,
   "metadata": {},
   "outputs": [],
   "source": [
    "import os\n",
    "from openai import OpenAI\n",
    "\n",
    "client = OpenAI(\n",
    "    api_key=os.environ.get(\"OPENAI_API_KEY\"),  # This is the default and can be omitted\n",
    ")\n",
    "\n",
    "chat_completion = client.chat.completions.create(\n",
    "    messages=[\n",
    "        {\n",
    "            \"role\": \"user\",\n",
    "            \"content\": \"Say this is a test\",\n",
    "        }\n",
    "    ],\n",
    "    model=\"gpt-4o\",\n",
    ")"
   ]
  },
  {
   "cell_type": "code",
   "execution_count": 2,
   "metadata": {},
   "outputs": [
    {
     "name": "stdout",
     "output_type": "stream",
     "text": [
      "1.64.0\n"
     ]
    }
   ],
   "source": [
    "import openai\n",
    "print(openai.__version__)"
   ]
  },
  {
   "cell_type": "code",
   "execution_count": 3,
   "metadata": {},
   "outputs": [
    {
     "name": "stdout",
     "output_type": "stream",
     "text": [
      "This is a test.\n"
     ]
    }
   ],
   "source": [
    "import os\n",
    "from openai import OpenAI\n",
    "\n",
    "# Instantiating the client \n",
    "client = OpenAI(api_key=os.environ.get(\"OPENAI_API_KEY\"))\n",
    "\n",
    "def get_chat_completion(prompt, model=\"gpt-4\"):\n",
    "    try:\n",
    "        # Creating a chat completion request\n",
    "        response = client.chat.completions.create(\n",
    "            messages=[\n",
    "                {\"role\": \"user\", \"content\": prompt}\n",
    "            ],\n",
    "            model=model\n",
    "        )\n",
    "        \n",
    "        # Extracting the text from the response\n",
    "        # Assuming 'choices' is correctly accessed, get the text content from message\n",
    "        completion_message = response.choices[0].message\n",
    "        return completion_message.content.strip()\n",
    "\n",
    "    except Exception as e:\n",
    "        print(f\"An error occurred: {e}\")\n",
    "        return None\n",
    "\n",
    "# Testing the function\n",
    "result = get_chat_completion(\"Say this is a test\")\n",
    "if result:\n",
    "    print(result)"
   ]
  },
  {
   "cell_type": "code",
   "execution_count": 2,
   "metadata": {},
   "outputs": [
    {
     "name": "stdout",
     "output_type": "stream",
     "text": [
      "                                       Recommendation\n",
      "0                     1. \"Gone Girl\" by Gillian Flynn\n",
      "1   2. \"The Girl with the Dragon Tattoo\" by Stieg ...\n",
      "2                 3. \"The Da Vinci Code\" by Dan Brown\n",
      "3                4. \"Shutter Island\" by Dennis Lehane\n",
      "4         5. \"The Girl on the Train\" by Paula Hawkins\n",
      "5                    6. \"I am Pilgrim\" by Terry Hayes\n",
      "6            7. \"Before I Go to Sleep\" by S.J. Watson\n",
      "7                    8. \"In the Woods\" by Tana French\n",
      "8      9. \"The Silence of the Lambs\" by Thomas Harris\n",
      "9          10. \"The Woman in the Window\" by A.J. Finn\n",
      "10               11. \"Sharp Objects\" by Gillian Flynn\n",
      "11         12. \"The Good Daughter\" by Karin Slaughter\n",
      "12    13. \"No Country for Old Men\" by Cormac McCarthy\n",
      "13                  14. \"Red Dragon\" by Thomas Harris\n",
      "14                 15. \"Dark Places\" by Gillian Flynn\n",
      "15               16. \"The Killing Floor\" by Lee Child\n",
      "16  17. \"The President is Missing\" by James Patter...\n",
      "17                       18. \"You\" by Caroline Kepnes\n",
      "18            19. \"Big Little Lies\" by Liane Moriarty\n",
      "19     20. \"The Kind Worth Killing\" by Peter Swanson.\n"
     ]
    }
   ],
   "source": [
    "import os\n",
    "import pandas as pd\n",
    "from openai import OpenAI\n",
    "\n",
    "# Instantiating the client \n",
    "client = OpenAI(api_key=os.environ.get(\"OPENAI_API_KEY\"))\n",
    "\n",
    "# Defining the function to get user preferences\n",
    "def get_user_preferences():\n",
    "    preferences = {}\n",
    "    preferences['favorite_genres'] = input(\"Enter your favorite genres (comma-separated): \")\n",
    "    return preferences\n",
    "\n",
    "# Defining the function to generate recommendations\n",
    "def generate_recommendations(preferences):\n",
    "    \"\"\"\n",
    "    Use GPT-3 to generate recommendations based on user preferences.\n",
    "    \"\"\"\n",
    "    prompt = f\"Generate a list of recommendations based on the following preferences: {preferences['favorite_genres']}.\"\n",
    "    \n",
    "    try:\n",
    "        # Creating a chat completion request\n",
    "        response = client.chat.completions.create(\n",
    "            messages=[\n",
    "                {\"role\": \"user\", \"content\": prompt}\n",
    "            ],\n",
    "            model=\"gpt-4\"\n",
    "        )\n",
    "        \n",
    "        # Extracting the text from the response\n",
    "        completion_message = response.choices[0].message\n",
    "        recommendations = completion_message.content.strip().split('\\n')\n",
    "        return recommendations\n",
    "\n",
    "    except Exception as e:\n",
    "        print(f\"An error occurred: {e}\")\n",
    "        return []\n",
    "\n",
    "def visualize_recommendations(recommendations):\n",
    "    \"\"\"\n",
    "    Visualize or summarize the recommendations for the user.\n",
    "    \"\"\"\n",
    "    recommendations_df = pd.DataFrame(recommendations, columns=['Recommendation'])\n",
    "    print(recommendations_df)\n",
    "\n",
    "def main():\n",
    "    \"\"\"\n",
    "    Main function to run the recommender system.\n",
    "    \"\"\"\n",
    "    preferences = get_user_preferences()\n",
    "    recommendations = generate_recommendations(preferences)\n",
    "    visualize_recommendations(recommendations)\n",
    "\n",
    "if __name__ == \"__main__\":\n",
    "    main()"
   ]
  },
  {
   "cell_type": "code",
   "execution_count": null,
   "metadata": {},
   "outputs": [],
   "source": []
  }
 ],
 "metadata": {
  "kernelspec": {
   "display_name": "base",
   "language": "python",
   "name": "python3"
  },
  "language_info": {
   "codemirror_mode": {
    "name": "ipython",
    "version": 3
   },
   "file_extension": ".py",
   "mimetype": "text/x-python",
   "name": "python",
   "nbconvert_exporter": "python",
   "pygments_lexer": "ipython3",
   "version": "3.12.7"
  }
 },
 "nbformat": 4,
 "nbformat_minor": 2
}
