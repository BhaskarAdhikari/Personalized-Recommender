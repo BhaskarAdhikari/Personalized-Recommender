{
 "cells": [
  {
   "cell_type": "code",
   "execution_count": 4,
   "metadata": {},
   "outputs": [
    {
     "name": "stdout",
     "output_type": "stream",
     "text": [
      "1.64.0\n"
     ]
    }
   ],
   "source": [
    "import openai\n",
    "print(openai.__version__)"
   ]
  },
  {
   "cell_type": "code",
   "execution_count": 5,
   "metadata": {},
   "outputs": [
    {
     "name": "stdout",
     "output_type": "stream",
     "text": [
      "This is a test.\n"
     ]
    }
   ],
   "source": [
    "import os\n",
    "from openai import OpenAI\n",
    "\n",
    "# Instantiating the client \n",
    "client = OpenAI(api_key=os.environ.get(\"OPENAI_API_KEY\"))\n",
    "\n",
    "def get_chat_completion(prompt, model=\"gpt-4\"):\n",
    "    try:\n",
    "        # Creating a chat completion request\n",
    "        response = client.chat.completions.create(\n",
    "            messages=[\n",
    "                {\"role\": \"user\", \"content\": prompt}\n",
    "            ],\n",
    "            model=model\n",
    "        )\n",
    "        \n",
    "        # Extracting the text from the response\n",
    "        # Assuming 'choices' is correctly accessed, get the text content from message\n",
    "        completion_message = response.choices[0].message\n",
    "        return completion_message.content.strip()\n",
    "\n",
    "    except Exception as e:\n",
    "        print(f\"An error occurred: {e}\")\n",
    "        return None\n",
    "\n",
    "# Testing the function\n",
    "result = get_chat_completion(\"Say this is a test\")\n",
    "if result:\n",
    "    print(result)"
   ]
  },
  {
   "cell_type": "code",
   "execution_count": 6,
   "metadata": {},
   "outputs": [
    {
     "name": "stdout",
     "output_type": "stream",
     "text": [
      "                                       Recommendation\n",
      "0   1. \"Anchorman: The Legend of Ron Burgundy\" - C...\n",
      "1                                                    \n",
      "2   2. \"Superbad\" - Witness teenage tomfoolery as ...\n",
      "3                                                    \n",
      "4   3. \"Bridesmaids\" - Join a hilarious bridal par...\n",
      "5                                                    \n",
      "6   4. \"The Hangover\" - Follow a group of friends ...\n",
      "7                                                    \n",
      "8   5. \"Knocked Up\" - Watch a one-night stand turn...\n",
      "9                                                    \n",
      "10  6. \"The 40-Year Old Virgin\" - Root for a middl...\n",
      "11                                                   \n",
      "12  7. \"Step Brothers\" - Enjoy the odd but hilario...\n",
      "13                                                   \n",
      "14  8. \"Office Space\" - Experience a hilarious wor...\n",
      "15                                                   \n",
      "16  9. \"Meet the Parents\" - Familiarize with the f...\n",
      "17                                                   \n",
      "18  10. \"Dumb and Dumber\" - Hop on a cross-country...\n",
      "19                                                   \n",
      "20  11. \"The Big Lebowski\" - Meet an eccentric cha...\n",
      "21                                                   \n",
      "22  12. \"Monty Python and the Holy Grail\" - Immers...\n",
      "23                                                   \n",
      "24  13. \"Zoolander\" - Enjoy a laugh at the fashion...\n",
      "25                                                   \n",
      "26  14. \"Caddyshack\" - Join the hilarious chaos un...\n",
      "27                                                   \n",
      "28  15. \"Ghostbusters\" - Save New York City from g...\n",
      "29                                                   \n",
      "30  16. \"Napoleon Dynamite\" - Experience the quirk...\n",
      "31                                                   \n",
      "32  17. \"The Princess Bride\" - Enjoy a mix of fant...\n",
      "33                                                   \n",
      "34  18. \"Hot Fuzz\" - Follow a top cop as he adjust...\n",
      "35                                                   \n",
      "36  19. \"Ferris Bueller's Day Off\" - Pep up your s...\n",
      "37                                                   \n",
      "38  20. \"Airplane!\" - Enjoy this uproarious spoof ...\n"
     ]
    }
   ],
   "source": [
    "import os\n",
    "import pandas as pd\n",
    "from openai import OpenAI\n",
    "\n",
    "# Instantiating the client \n",
    "client = OpenAI(api_key=os.environ.get(\"OPENAI_API_KEY\"))\n",
    "\n",
    "# Defining the function to get user preferences\n",
    "def get_user_preferences():\n",
    "    preferences = {}\n",
    "    preferences['favorite_genres'] = input(\"Enter your favorite genres (comma-separated): \")\n",
    "    return preferences\n",
    "\n",
    "# Defining the function to generate recommendations\n",
    "def generate_recommendations(preferences):\n",
    "    \"\"\"\n",
    "    Use GPT-3 to generate recommendations based on user preferences.\n",
    "    \"\"\"\n",
    "    prompt = f\"Generate a list of recommendations based on the following preferences: {preferences['favorite_genres']}.\"\n",
    "    \n",
    "    try:\n",
    "        # Creating a chat completion request\n",
    "        response = client.chat.completions.create(\n",
    "            messages=[\n",
    "                {\"role\": \"user\", \"content\": prompt}\n",
    "            ],\n",
    "            model=\"gpt-4\"\n",
    "        )\n",
    "        \n",
    "        # Extracting the text from the response\n",
    "        completion_message = response.choices[0].message\n",
    "        recommendations = completion_message.content.strip().split('\\n')\n",
    "        return recommendations\n",
    "\n",
    "    except Exception as e:\n",
    "        print(f\"An error occurred: {e}\")\n",
    "        return []\n",
    "\n",
    "def visualize_recommendations(recommendations):\n",
    "    \"\"\"\n",
    "    Visualize or summarize the recommendations for the user.\n",
    "    \"\"\"\n",
    "    recommendations_df = pd.DataFrame(recommendations, columns=['Recommendation'])\n",
    "    print(recommendations_df)\n",
    "\n",
    "def main():\n",
    "    \"\"\"\n",
    "    Main function to run the recommender system.\n",
    "    \"\"\"\n",
    "    preferences = get_user_preferences()\n",
    "    recommendations = generate_recommendations(preferences)\n",
    "    visualize_recommendations(recommendations)\n",
    "\n",
    "if __name__ == \"__main__\":\n",
    "    main()"
   ]
  }
 ],
 "metadata": {
  "kernelspec": {
   "display_name": "base",
   "language": "python",
   "name": "python3"
  },
  "language_info": {
   "codemirror_mode": {
    "name": "ipython",
    "version": 3
   },
   "file_extension": ".py",
   "mimetype": "text/x-python",
   "name": "python",
   "nbconvert_exporter": "python",
   "pygments_lexer": "ipython3",
   "version": "3.12.7"
  }
 },
 "nbformat": 4,
 "nbformat_minor": 2
}
